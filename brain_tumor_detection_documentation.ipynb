{
 "cells": [
  {
   "cell_type": "markdown",
   "id": "f1c4fd43",
   "metadata": {},
   "source": [
    "# Brain Tumor Detection Model\n",
    "This notebook documents the implementation, training, and evaluation of a deep learning model that performs both **binary classification** (tumor vs. no tumor) and **bounding box regression** to localize the tumor in grayscale MRI scans."
   ]
  },
  {
   "cell_type": "markdown",
   "id": "518bd423",
   "metadata": {},
   "source": [
    "## Data Loading\n",
    "Images are loaded from `data/images/`, and their corresponding YOLO-style labels are read from `data/labels/`."
   ]
  },
  {
   "cell_type": "code",
   "execution_count": null,
   "id": "2f25f777",
   "metadata": {},
   "outputs": [],
   "source": [
    "\n",
    "import os\n",
    "import numpy as np\n",
    "import tensorflow as tf\n",
    "\n",
    "IMG_SIZE = 224\n",
    "\n",
    "def load_data(images_path, labels_path):\n",
    "    images, labels_cls, labels_bbox = [], [], []\n",
    "\n",
    "    for filename in os.listdir(images_path):\n",
    "        if filename.endswith(\".jpg\"):\n",
    "            img_path = os.path.join(images_path, filename)\n",
    "            label_path = os.path.join(labels_path, filename.replace(\".jpg\", \".txt\"))\n",
    "\n",
    "            if not os.path.exists(label_path): continue\n",
    "\n",
    "            img = tf.keras.preprocessing.image.load_img(img_path, target_size=(IMG_SIZE, IMG_SIZE), color_mode=\"grayscale\")\n",
    "            img = tf.keras.preprocessing.image.img_to_array(img) / 255.0\n",
    "\n",
    "            with open(label_path, \"r\") as file:\n",
    "                values = list(map(float, file.readline().strip().split()))\n",
    "                cls = int(values[0])\n",
    "                bbox = values[1:]  # center_x, center_y, w, h\n",
    "\n",
    "            images.append(img)\n",
    "            labels_cls.append(cls)\n",
    "            labels_bbox.append(bbox)\n",
    "\n",
    "    return np.array(images), np.array(labels_cls), np.array(labels_bbox)\n",
    "\n",
    "images, class_labels, bbox_labels = load_data(\"data/images\", \"data/labels\")\n",
    "print(\"Loaded images:\", images.shape)\n"
   ]
  },
  {
   "cell_type": "markdown",
   "id": "ce9a5e79",
   "metadata": {},
   "source": [
    "## Train-Test Split"
   ]
  },
  {
   "cell_type": "code",
   "execution_count": null,
   "id": "88b18c3e",
   "metadata": {},
   "outputs": [],
   "source": [
    "\n",
    "from sklearn.model_selection import train_test_split\n",
    "\n",
    "X_train, X_val, y_train_cls, y_val_cls, y_train_bbox, y_val_bbox = train_test_split(\n",
    "    images, class_labels, bbox_labels, test_size=0.2, random_state=42)\n",
    "\n",
    "y_train = np.concatenate([y_train_cls.reshape(-1,1), y_train_bbox], axis=1)\n",
    "y_val = np.concatenate([y_val_cls.reshape(-1,1), y_val_bbox], axis=1)\n"
   ]
  },
  {
   "cell_type": "markdown",
   "id": "e338e370",
   "metadata": {},
   "source": [
    "## Model Architecture\n",
    "A **Sequential CNN** model with a dual-head output (classification and bounding box regression)."
   ]
  },
  {
   "cell_type": "code",
   "execution_count": null,
   "id": "d705201a",
   "metadata": {},
   "outputs": [],
   "source": [
    "\n",
    "from tensorflow.keras.models import Sequential\n",
    "from tensorflow.keras.layers import Conv2D, MaxPooling2D, Flatten, Dense, Dropout\n",
    "\n",
    "model = Sequential([\n",
    "    Conv2D(32, (3,3), activation='relu', input_shape=(IMG_SIZE, IMG_SIZE, 1)),\n",
    "    MaxPooling2D(2,2),\n",
    "    Conv2D(64, (3,3), activation='relu'),\n",
    "    MaxPooling2D(2,2),\n",
    "    Conv2D(128, (3,3), activation='relu'),\n",
    "    MaxPooling2D(2,2),\n",
    "    Flatten(),\n",
    "    Dense(128, activation='relu'),\n",
    "    Dropout(0.5),\n",
    "    Dense(5, activation='linear')  # 1 for class, 4 for bbox\n",
    "])\n",
    "model.summary()\n"
   ]
  },
  {
   "cell_type": "markdown",
   "id": "80b7b61f",
   "metadata": {},
   "source": [
    "## Custom Loss Function"
   ]
  },
  {
   "cell_type": "code",
   "execution_count": null,
   "id": "ba2a5d91",
   "metadata": {},
   "outputs": [],
   "source": [
    "\n",
    "from tensorflow.keras.optimizers import Adam\n",
    "\n",
    "def custom_loss(y_true, y_pred):\n",
    "    cls_true = y_true[:, 0]\n",
    "    bbox_true = y_true[:, 1:]\n",
    "\n",
    "    cls_pred = tf.keras.activations.sigmoid(y_pred[:, 0])\n",
    "    bbox_pred = y_pred[:, 1:]\n",
    "\n",
    "    cls_loss = tf.keras.losses.binary_crossentropy(cls_true, cls_pred)\n",
    "    bbox_loss = tf.reduce_mean(tf.abs(bbox_true - bbox_pred), axis=1)\n",
    "\n",
    "    return cls_loss + 0.05 * bbox_loss\n",
    "\n",
    "model.compile(optimizer=Adam(1e-4), loss=custom_loss, metrics=['accuracy'])\n"
   ]
  },
  {
   "cell_type": "markdown",
   "id": "d7d1a9ad",
   "metadata": {},
   "source": [
    "## Training the Model"
   ]
  },
  {
   "cell_type": "code",
   "execution_count": null,
   "id": "e6b36e8f",
   "metadata": {},
   "outputs": [],
   "source": [
    "\n",
    "from tensorflow.keras.callbacks import EarlyStopping, ReduceLROnPlateau\n",
    "\n",
    "early_stop = EarlyStopping(patience=20, restore_best_weights=True)\n",
    "reduce_lr = ReduceLROnPlateau(monitor='val_loss', patience=5, factor=0.7, min_lr=1e-6)\n",
    "\n",
    "history = model.fit(X_train, y_train, validation_data=(X_val, y_val),\n",
    "                    epochs=50, batch_size=32, callbacks=[early_stop, reduce_lr])\n"
   ]
  },
  {
   "cell_type": "markdown",
   "id": "bbddb771",
   "metadata": {},
   "source": [
    "## Evaluation"
   ]
  },
  {
   "cell_type": "code",
   "execution_count": null,
   "id": "3d72efe8",
   "metadata": {},
   "outputs": [],
   "source": [
    "\n",
    "# Classification accuracy\n",
    "preds = model.predict(X_val)\n",
    "cls_preds = tf.round(tf.keras.activations.sigmoid(preds[:, 0])).numpy().flatten()\n",
    "val_cls_true = y_val_cls.flatten()\n",
    "acc = np.mean(cls_preds == val_cls_true)\n",
    "print(f\"Validation Classification Accuracy: {acc:.2f}\")\n",
    "\n",
    "# Bounding Box MAE\n",
    "mae = np.mean(np.abs(preds[:, 1:] - y_val_bbox))\n",
    "print(f\"Validation Bounding Box MAE: {mae:.2f}\")\n"
   ]
  },
  {
   "cell_type": "markdown",
   "id": "7e8d4e8b",
   "metadata": {},
   "source": [
    "## Accuracy and Loss Curves"
   ]
  },
  {
   "cell_type": "code",
   "execution_count": null,
   "id": "8cde4cbb",
   "metadata": {},
   "outputs": [],
   "source": [
    "\n",
    "import matplotlib.pyplot as plt\n",
    "\n",
    "plt.plot(history.history['accuracy'], label=\"Train Acc\")\n",
    "plt.plot(history.history['val_accuracy'], label=\"Val Acc\")\n",
    "plt.legend()\n",
    "plt.title(\"Classification Accuracy\")\n",
    "plt.show()\n",
    "\n",
    "plt.plot(history.history['loss'], label=\"Train Loss\")\n",
    "plt.title(\"Loss\")\n",
    "plt.legend()\n",
    "plt.show()\n"
   ]
  },
  {
   "cell_type": "markdown",
   "id": "82cf00a4",
   "metadata": {},
   "source": [
    "## Save Trained Model"
   ]
  },
  {
   "cell_type": "code",
   "execution_count": null,
   "id": "faf05735",
   "metadata": {},
   "outputs": [],
   "source": [
    "\n",
    "import os\n",
    "os.makedirs(\"saved_models\", exist_ok=True)\n",
    "model.save(\"saved_models/dual_head_model.keras\")\n",
    "model.save_weights(\"saved_models/dual_head_model.weights.h5\")\n"
   ]
  }
 ],
 "metadata": {},
 "nbformat": 4,
 "nbformat_minor": 5
}